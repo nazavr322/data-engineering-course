{
 "cells": [
  {
   "cell_type": "code",
   "execution_count": 1,
   "id": "2cc35eaf",
   "metadata": {},
   "outputs": [],
   "source": [
    "import json\n",
    "\n",
    "import pandas as pd\n",
    "from sklearn.preprocessing import LabelBinarizer"
   ]
  },
  {
   "cell_type": "markdown",
   "id": "99989126",
   "metadata": {},
   "source": [
    "# Завдання"
   ]
  },
  {
   "cell_type": "markdown",
   "id": "ac528f72",
   "metadata": {},
   "source": [
    "## 1. Зчитати дані у файлі `clients.json` "
   ]
  },
  {
   "cell_type": "code",
   "execution_count": 2,
   "id": "3169f4f3",
   "metadata": {},
   "outputs": [],
   "source": [
    "with open('./clients.json') as f:\n",
    "    data = json.load(f)"
   ]
  },
  {
   "cell_type": "code",
   "execution_count": 3,
   "id": "ad144050",
   "metadata": {},
   "outputs": [
    {
     "data": {
      "text/plain": [
       "{'clients': [{'id': '59761c23b30d971669fb42ff',\n",
       "   'isActive': True,\n",
       "   'age': 36,\n",
       "   'name': 'Dunlap Hubbard',\n",
       "   'gender': 'male',\n",
       "   'company': 'CEDWARD',\n",
       "   'email': 'dunlaphubbard@cedward.com',\n",
       "   'phone': '+1 (890) 543-2508',\n",
       "   'address': '169 Rutledge Street, Konterra, Northern Mariana Islands, 8551'},\n",
       "  {'id': '59761c233d8d0f92a6b0570d',\n",
       "   'isActive': True,\n",
       "   'age': 24,\n",
       "   'name': 'Kirsten Sellers',\n",
       "   'gender': 'female',\n",
       "   'company': 'EMERGENT',\n",
       "   'email': 'kirstensellers@emergent.com',\n",
       "   'phone': '+1 (831) 564-2190',\n",
       "   'address': '886 Gallatin Place, Fannett, Arkansas, 4656'},\n",
       "  {'id': '59761c23fcb6254b1a06dad5',\n",
       "   'isActive': True,\n",
       "   'age': 30,\n",
       "   'name': 'Acosta Robbins',\n",
       "   'gender': 'male',\n",
       "   'company': 'ORGANICA',\n",
       "   'email': 'acostarobbins@organica.com',\n",
       "   'phone': '+1 (882) 441-3367',\n",
       "   'address': '697 Linden Boulevard, Sattley, Idaho, 1035'}]}"
      ]
     },
     "execution_count": 3,
     "metadata": {},
     "output_type": "execute_result"
    }
   ],
   "source": [
    "data"
   ]
  },
  {
   "cell_type": "markdown",
   "id": "0e8d2a47",
   "metadata": {},
   "source": [
    "## 2. Дописати декілька клієнтів у файл"
   ]
  },
  {
   "cell_type": "code",
   "execution_count": 4,
   "id": "ad4f2c22",
   "metadata": {},
   "outputs": [],
   "source": [
    "new_clients = (\n",
    "    {\n",
    "        'id': '59761c23b30d971669fb42fg', 'isActive': False, 'age': 28, 'name': 'Client1',\n",
    "        'gender': 'female', 'company': 'Company1', 'email': 'customer1@mail.com',\n",
    "        'phone': '+1 (882) 441-3368', 'address': 'Tarnavskogo, Lviv, 79000'\n",
    "    },\n",
    "    {\n",
    "        'id': '59761c23b30d971669fb42fh', 'isActive': False, 'age': 32, 'name': 'Client2',\n",
    "        'gender': 'male', 'company': 'Company2', 'email': 'customer2@mail.com',\n",
    "        'phone': '+1 (882) 441-3369', 'address': 'Dragomanova, Lviv, 79000'\n",
    "    }\n",
    ")\n",
    "# add new clients\n",
    "data['clients'].extend(new_clients)\n",
    "\n",
    "# write to file\n",
    "with open('./clients.json', 'w') as f:\n",
    "    f.seek(0)\n",
    "    json.dump(data, f, indent=4)"
   ]
  },
  {
   "cell_type": "markdown",
   "id": "ec88eb00",
   "metadata": {},
   "source": [
    "## 3. Обчислити скільки є клієнтів"
   ]
  },
  {
   "cell_type": "code",
   "execution_count": 5,
   "id": "e6d638a0",
   "metadata": {},
   "outputs": [
    {
     "name": "stdout",
     "output_type": "stream",
     "text": [
      "Number of clients: 5\n"
     ]
    }
   ],
   "source": [
    "num_of_clients = len(data['clients'])\n",
    "print('Number of clients:', num_of_clients)"
   ]
  },
  {
   "cell_type": "markdown",
   "id": "4fa42f37",
   "metadata": {},
   "source": [
    "## 4. Визначити середній вік клієнтів"
   ]
  },
  {
   "cell_type": "code",
   "execution_count": 6,
   "id": "cda2720c",
   "metadata": {},
   "outputs": [
    {
     "name": "stdout",
     "output_type": "stream",
     "text": [
      "Average client age: 30.0\n"
     ]
    }
   ],
   "source": [
    "mean_age = sum(client['age'] for client in data['clients']) / num_of_clients\n",
    "print('Average client age:', mean_age)"
   ]
  },
  {
   "cell_type": "markdown",
   "id": "a4201f9c",
   "metadata": {},
   "source": [
    "## 5. Вивести список email всіх клієнтів"
   ]
  },
  {
   "cell_type": "code",
   "execution_count": 7,
   "id": "b9d1b815",
   "metadata": {},
   "outputs": [
    {
     "name": "stdout",
     "output_type": "stream",
     "text": [
      "Client emails: ['dunlaphubbard@cedward.com', 'kirstensellers@emergent.com', 'acostarobbins@organica.com', 'customer1@mail.com', 'customer2@mail.com']\n"
     ]
    }
   ],
   "source": [
    "print('Client emails:', [client['email'] for client in data['clients']])"
   ]
  },
  {
   "cell_type": "markdown",
   "id": "2bc6c254",
   "metadata": {},
   "source": [
    "## 6. Використати `LabelBinarizer()` для переведення ключів `isActive`, `gender`,   \n",
    "## `company` в числовий формат."
   ]
  },
  {
   "cell_type": "code",
   "execution_count": 8,
   "id": "11d7246d",
   "metadata": {},
   "outputs": [],
   "source": [
    "# create dataframe from dict\n",
    "df = pd.DataFrame.from_dict(data['clients'])\n",
    "\n",
    "# initialize LabelBinarizer\n",
    "lb = LabelBinarizer()\n",
    "df['isActive'] = lb.fit_transform(df['isActive'])\n",
    "df['gender'] = lb.fit_transform(df['gender'])\n",
    "\n",
    "# turn column to categorical\n",
    "df['company'] = df['company'].astype('category')\n",
    "df['company_code'] = df['company'].cat.codes"
   ]
  },
  {
   "cell_type": "code",
   "execution_count": 9,
   "id": "0be9b152",
   "metadata": {},
   "outputs": [
    {
     "data": {
      "text/html": [
       "<div>\n",
       "<style scoped>\n",
       "    .dataframe tbody tr th:only-of-type {\n",
       "        vertical-align: middle;\n",
       "    }\n",
       "\n",
       "    .dataframe tbody tr th {\n",
       "        vertical-align: top;\n",
       "    }\n",
       "\n",
       "    .dataframe thead th {\n",
       "        text-align: right;\n",
       "    }\n",
       "</style>\n",
       "<table border=\"1\" class=\"dataframe\">\n",
       "  <thead>\n",
       "    <tr style=\"text-align: right;\">\n",
       "      <th></th>\n",
       "      <th>id</th>\n",
       "      <th>isActive</th>\n",
       "      <th>age</th>\n",
       "      <th>name</th>\n",
       "      <th>gender</th>\n",
       "      <th>company</th>\n",
       "      <th>email</th>\n",
       "      <th>phone</th>\n",
       "      <th>address</th>\n",
       "      <th>company_code</th>\n",
       "    </tr>\n",
       "  </thead>\n",
       "  <tbody>\n",
       "    <tr>\n",
       "      <th>0</th>\n",
       "      <td>59761c23b30d971669fb42ff</td>\n",
       "      <td>1</td>\n",
       "      <td>36</td>\n",
       "      <td>Dunlap Hubbard</td>\n",
       "      <td>1</td>\n",
       "      <td>CEDWARD</td>\n",
       "      <td>dunlaphubbard@cedward.com</td>\n",
       "      <td>+1 (890) 543-2508</td>\n",
       "      <td>169 Rutledge Street, Konterra, Northern Marian...</td>\n",
       "      <td>0</td>\n",
       "    </tr>\n",
       "    <tr>\n",
       "      <th>1</th>\n",
       "      <td>59761c233d8d0f92a6b0570d</td>\n",
       "      <td>1</td>\n",
       "      <td>24</td>\n",
       "      <td>Kirsten Sellers</td>\n",
       "      <td>0</td>\n",
       "      <td>EMERGENT</td>\n",
       "      <td>kirstensellers@emergent.com</td>\n",
       "      <td>+1 (831) 564-2190</td>\n",
       "      <td>886 Gallatin Place, Fannett, Arkansas, 4656</td>\n",
       "      <td>3</td>\n",
       "    </tr>\n",
       "    <tr>\n",
       "      <th>2</th>\n",
       "      <td>59761c23fcb6254b1a06dad5</td>\n",
       "      <td>1</td>\n",
       "      <td>30</td>\n",
       "      <td>Acosta Robbins</td>\n",
       "      <td>1</td>\n",
       "      <td>ORGANICA</td>\n",
       "      <td>acostarobbins@organica.com</td>\n",
       "      <td>+1 (882) 441-3367</td>\n",
       "      <td>697 Linden Boulevard, Sattley, Idaho, 1035</td>\n",
       "      <td>4</td>\n",
       "    </tr>\n",
       "    <tr>\n",
       "      <th>3</th>\n",
       "      <td>59761c23b30d971669fb42fg</td>\n",
       "      <td>0</td>\n",
       "      <td>28</td>\n",
       "      <td>Client1</td>\n",
       "      <td>0</td>\n",
       "      <td>Company1</td>\n",
       "      <td>customer1@mail.com</td>\n",
       "      <td>+1 (882) 441-3368</td>\n",
       "      <td>Tarnavskogo, Lviv, 79000</td>\n",
       "      <td>1</td>\n",
       "    </tr>\n",
       "    <tr>\n",
       "      <th>4</th>\n",
       "      <td>59761c23b30d971669fb42fh</td>\n",
       "      <td>0</td>\n",
       "      <td>32</td>\n",
       "      <td>Client2</td>\n",
       "      <td>1</td>\n",
       "      <td>Company2</td>\n",
       "      <td>customer2@mail.com</td>\n",
       "      <td>+1 (882) 441-3369</td>\n",
       "      <td>Dragomanova, Lviv, 79000</td>\n",
       "      <td>2</td>\n",
       "    </tr>\n",
       "  </tbody>\n",
       "</table>\n",
       "</div>"
      ],
      "text/plain": [
       "                         id  isActive  age             name  gender   company  \\\n",
       "0  59761c23b30d971669fb42ff         1   36   Dunlap Hubbard       1   CEDWARD   \n",
       "1  59761c233d8d0f92a6b0570d         1   24  Kirsten Sellers       0  EMERGENT   \n",
       "2  59761c23fcb6254b1a06dad5         1   30   Acosta Robbins       1  ORGANICA   \n",
       "3  59761c23b30d971669fb42fg         0   28          Client1       0  Company1   \n",
       "4  59761c23b30d971669fb42fh         0   32          Client2       1  Company2   \n",
       "\n",
       "                         email              phone  \\\n",
       "0    dunlaphubbard@cedward.com  +1 (890) 543-2508   \n",
       "1  kirstensellers@emergent.com  +1 (831) 564-2190   \n",
       "2   acostarobbins@organica.com  +1 (882) 441-3367   \n",
       "3           customer1@mail.com  +1 (882) 441-3368   \n",
       "4           customer2@mail.com  +1 (882) 441-3369   \n",
       "\n",
       "                                             address  company_code  \n",
       "0  169 Rutledge Street, Konterra, Northern Marian...             0  \n",
       "1        886 Gallatin Place, Fannett, Arkansas, 4656             3  \n",
       "2         697 Linden Boulevard, Sattley, Idaho, 1035             4  \n",
       "3                           Tarnavskogo, Lviv, 79000             1  \n",
       "4                           Dragomanova, Lviv, 79000             2  "
      ]
     },
     "execution_count": 9,
     "metadata": {},
     "output_type": "execute_result"
    }
   ],
   "source": [
    "df"
   ]
  },
  {
   "cell_type": "markdown",
   "id": "ab1bf327",
   "metadata": {},
   "source": [
    "## 7. Створити нову табличку з «корисними» даними про клієнтів для процесу кластеризації."
   ]
  },
  {
   "cell_type": "code",
   "execution_count": 10,
   "id": "fd1e78b4",
   "metadata": {},
   "outputs": [
    {
     "data": {
      "text/html": [
       "<div>\n",
       "<style scoped>\n",
       "    .dataframe tbody tr th:only-of-type {\n",
       "        vertical-align: middle;\n",
       "    }\n",
       "\n",
       "    .dataframe tbody tr th {\n",
       "        vertical-align: top;\n",
       "    }\n",
       "\n",
       "    .dataframe thead th {\n",
       "        text-align: right;\n",
       "    }\n",
       "</style>\n",
       "<table border=\"1\" class=\"dataframe\">\n",
       "  <thead>\n",
       "    <tr style=\"text-align: right;\">\n",
       "      <th></th>\n",
       "      <th>id</th>\n",
       "      <th>isActive</th>\n",
       "      <th>gender</th>\n",
       "      <th>company_code</th>\n",
       "      <th>state</th>\n",
       "    </tr>\n",
       "  </thead>\n",
       "  <tbody>\n",
       "    <tr>\n",
       "      <th>0</th>\n",
       "      <td>59761c23b30d971669fb42ff</td>\n",
       "      <td>1</td>\n",
       "      <td>1</td>\n",
       "      <td>0</td>\n",
       "      <td>Northern Mariana Islands</td>\n",
       "    </tr>\n",
       "    <tr>\n",
       "      <th>1</th>\n",
       "      <td>59761c233d8d0f92a6b0570d</td>\n",
       "      <td>1</td>\n",
       "      <td>0</td>\n",
       "      <td>3</td>\n",
       "      <td>Arkansas</td>\n",
       "    </tr>\n",
       "    <tr>\n",
       "      <th>2</th>\n",
       "      <td>59761c23fcb6254b1a06dad5</td>\n",
       "      <td>1</td>\n",
       "      <td>1</td>\n",
       "      <td>4</td>\n",
       "      <td>Idaho</td>\n",
       "    </tr>\n",
       "    <tr>\n",
       "      <th>3</th>\n",
       "      <td>59761c23b30d971669fb42fg</td>\n",
       "      <td>0</td>\n",
       "      <td>0</td>\n",
       "      <td>1</td>\n",
       "      <td>Lviv</td>\n",
       "    </tr>\n",
       "    <tr>\n",
       "      <th>4</th>\n",
       "      <td>59761c23b30d971669fb42fh</td>\n",
       "      <td>0</td>\n",
       "      <td>1</td>\n",
       "      <td>2</td>\n",
       "      <td>Lviv</td>\n",
       "    </tr>\n",
       "  </tbody>\n",
       "</table>\n",
       "</div>"
      ],
      "text/plain": [
       "                         id  isActive  gender  company_code  \\\n",
       "0  59761c23b30d971669fb42ff         1       1             0   \n",
       "1  59761c233d8d0f92a6b0570d         1       0             3   \n",
       "2  59761c23fcb6254b1a06dad5         1       1             4   \n",
       "3  59761c23b30d971669fb42fg         0       0             1   \n",
       "4  59761c23b30d971669fb42fh         0       1             2   \n",
       "\n",
       "                       state  \n",
       "0   Northern Mariana Islands  \n",
       "1                   Arkansas  \n",
       "2                      Idaho  \n",
       "3                       Lviv  \n",
       "4                       Lviv  "
      ]
     },
     "execution_count": 10,
     "metadata": {},
     "output_type": "execute_result"
    }
   ],
   "source": [
    "# parse address column to get state names\n",
    "df['state'] = df['address'].str.split(',').str[-2]\n",
    "df.loc[:, ('id', 'isActive', 'gender', 'company_code', 'state')]"
   ]
  }
 ],
 "metadata": {
  "kernelspec": {
   "display_name": "Python 3 (ipykernel)",
   "language": "python",
   "name": "python3"
  },
  "language_info": {
   "codemirror_mode": {
    "name": "ipython",
    "version": 3
   },
   "file_extension": ".py",
   "mimetype": "text/x-python",
   "name": "python",
   "nbconvert_exporter": "python",
   "pygments_lexer": "ipython3",
   "version": "3.10.8"
  }
 },
 "nbformat": 4,
 "nbformat_minor": 5
}
