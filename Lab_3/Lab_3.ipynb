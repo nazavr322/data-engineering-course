{
 "cells": [
  {
   "cell_type": "code",
   "execution_count": 1,
   "id": "96fbe60d",
   "metadata": {},
   "outputs": [],
   "source": [
    "import pandas as pd"
   ]
  },
  {
   "cell_type": "code",
   "execution_count": 2,
   "id": "14588a1a",
   "metadata": {},
   "outputs": [],
   "source": [
    "df = pd.read_csv('./EMSI_JobChange_UK_1.csv', sep=';')"
   ]
  },
  {
   "cell_type": "markdown",
   "id": "ca10b365",
   "metadata": {},
   "source": [
    "# Завдання"
   ]
  },
  {
   "cell_type": "markdown",
   "id": "a97f0aab",
   "metadata": {},
   "source": [
    "## Про що дані"
   ]
  },
  {
   "cell_type": "markdown",
   "id": "8d612e22",
   "metadata": {},
   "source": [
    "Якщо звернути увагу на таблицю нижче, то можемо побачити, що працюємо з даними про робочі місця в містах Англії. Для кожного міста ми знаємо кількість місць для кожної індустрії в 2011 та 2014 роках. Також знаємо різницю між робочими місцями за ці роки."
   ]
  },
  {
   "cell_type": "code",
   "execution_count": 3,
   "id": "41a1bd4e",
   "metadata": {},
   "outputs": [
    {
     "data": {
      "text/html": [
       "<div>\n",
       "<style scoped>\n",
       "    .dataframe tbody tr th:only-of-type {\n",
       "        vertical-align: middle;\n",
       "    }\n",
       "\n",
       "    .dataframe tbody tr th {\n",
       "        vertical-align: top;\n",
       "    }\n",
       "\n",
       "    .dataframe thead th {\n",
       "        text-align: right;\n",
       "    }\n",
       "</style>\n",
       "<table border=\"1\" class=\"dataframe\">\n",
       "  <thead>\n",
       "    <tr style=\"text-align: right;\">\n",
       "      <th></th>\n",
       "      <th>City</th>\n",
       "      <th>Country</th>\n",
       "      <th>SIC Code</th>\n",
       "      <th>Industry</th>\n",
       "      <th>Jobs2011</th>\n",
       "      <th>Jobs2014</th>\n",
       "      <th>Change</th>\n",
       "      <th>% Change</th>\n",
       "      <th>Unnamed: 8</th>\n",
       "    </tr>\n",
       "  </thead>\n",
       "  <tbody>\n",
       "    <tr>\n",
       "      <th>0</th>\n",
       "      <td>Aberdeen</td>\n",
       "      <td>UK</td>\n",
       "      <td>M</td>\n",
       "      <td>PROFESSIONAL, SCIENTIFIC AND TECHNICAL ACTIVITIES</td>\n",
       "      <td>33 510</td>\n",
       "      <td>34 729</td>\n",
       "      <td>1 219</td>\n",
       "      <td>3,6%</td>\n",
       "      <td>NaN</td>\n",
       "    </tr>\n",
       "    <tr>\n",
       "      <th>1</th>\n",
       "      <td>Aberdeen</td>\n",
       "      <td>UK</td>\n",
       "      <td>Q</td>\n",
       "      <td>HUMAN HEALTH AND SOCIAL WORK ACTIVITIES</td>\n",
       "      <td>35 520</td>\n",
       "      <td>34 555</td>\n",
       "      <td>-965</td>\n",
       "      <td>-2,7%</td>\n",
       "      <td>NaN</td>\n",
       "    </tr>\n",
       "    <tr>\n",
       "      <th>2</th>\n",
       "      <td>Aberdeen</td>\n",
       "      <td>UK</td>\n",
       "      <td>G</td>\n",
       "      <td>WHOLESALE AND RETAIL TRADE; REPAIR OF MOTOR VE...</td>\n",
       "      <td>34 231</td>\n",
       "      <td>34 065</td>\n",
       "      <td>-166</td>\n",
       "      <td>-0,4%</td>\n",
       "      <td>NaN</td>\n",
       "    </tr>\n",
       "    <tr>\n",
       "      <th>3</th>\n",
       "      <td>Aberdeen</td>\n",
       "      <td>UK</td>\n",
       "      <td>N</td>\n",
       "      <td>ADMINISTRATIVE AND SUPPORT SERVICE ACTIVITIES</td>\n",
       "      <td>22 344</td>\n",
       "      <td>29 561</td>\n",
       "      <td>7 217</td>\n",
       "      <td>32,2%</td>\n",
       "      <td>NaN</td>\n",
       "    </tr>\n",
       "    <tr>\n",
       "      <th>4</th>\n",
       "      <td>Aberdeen</td>\n",
       "      <td>UK</td>\n",
       "      <td>B</td>\n",
       "      <td>MINING AND QUARRYING</td>\n",
       "      <td>26 210</td>\n",
       "      <td>28 120</td>\n",
       "      <td>1 910</td>\n",
       "      <td>7,2%</td>\n",
       "      <td>NaN</td>\n",
       "    </tr>\n",
       "  </tbody>\n",
       "</table>\n",
       "</div>"
      ],
      "text/plain": [
       "       City Country SIC Code  \\\n",
       "0  Aberdeen      UK        M   \n",
       "1  Aberdeen      UK        Q   \n",
       "2  Aberdeen      UK        G   \n",
       "3  Aberdeen      UK        N   \n",
       "4  Aberdeen      UK        B   \n",
       "\n",
       "                                            Industry Jobs2011 Jobs2014 Change  \\\n",
       "0  PROFESSIONAL, SCIENTIFIC AND TECHNICAL ACTIVITIES   33 510   34 729  1 219   \n",
       "1            HUMAN HEALTH AND SOCIAL WORK ACTIVITIES   35 520   34 555   -965   \n",
       "2  WHOLESALE AND RETAIL TRADE; REPAIR OF MOTOR VE...   34 231   34 065   -166   \n",
       "3      ADMINISTRATIVE AND SUPPORT SERVICE ACTIVITIES   22 344   29 561  7 217   \n",
       "4                               MINING AND QUARRYING   26 210   28 120  1 910   \n",
       "\n",
       "  % Change  Unnamed: 8  \n",
       "0     3,6%         NaN  \n",
       "1    -2,7%         NaN  \n",
       "2    -0,4%         NaN  \n",
       "3    32,2%         NaN  \n",
       "4     7,2%         NaN  "
      ]
     },
     "execution_count": 3,
     "metadata": {},
     "output_type": "execute_result"
    }
   ],
   "source": [
    "df.head()"
   ]
  },
  {
   "cell_type": "markdown",
   "id": "43dd7b39",
   "metadata": {},
   "source": [
    "## 1. Виправити недоліки в даних"
   ]
  },
  {
   "cell_type": "markdown",
   "id": "ccb90a5f",
   "metadata": {},
   "source": [
    "Видаляємо непотрібний стовпчик"
   ]
  },
  {
   "cell_type": "code",
   "execution_count": 4,
   "id": "0edfea25",
   "metadata": {},
   "outputs": [],
   "source": [
    "df = df.drop('Unnamed: 8', axis='columns')"
   ]
  },
  {
   "cell_type": "markdown",
   "id": "23230be9",
   "metadata": {},
   "source": [
    "Забираємо знак відсотка з чисел, та замінюємо кому на крапку"
   ]
  },
  {
   "cell_type": "code",
   "execution_count": 5,
   "id": "00b54df1",
   "metadata": {},
   "outputs": [],
   "source": [
    "df['% Change'] = df['% Change'].str.replace('%', '').str.replace(',', '.')"
   ]
  },
  {
   "cell_type": "markdown",
   "id": "e8d58fb5",
   "metadata": {},
   "source": [
    "Видаємо пробіли в числах зазначених стовпчиків"
   ]
  },
  {
   "cell_type": "code",
   "execution_count": 6,
   "id": "635125c7",
   "metadata": {},
   "outputs": [],
   "source": [
    "cols = ['Jobs2011', 'Jobs2014', 'Change', '% Change']\n",
    "for col in cols[:-1]:\n",
    "    df[col] = df[col].str.replace(' ', '')"
   ]
  },
  {
   "cell_type": "markdown",
   "id": "657d0f55",
   "metadata": {},
   "source": [
    "Конвертуємо строки в числа"
   ]
  },
  {
   "cell_type": "code",
   "execution_count": 7,
   "id": "8f698392",
   "metadata": {},
   "outputs": [],
   "source": [
    "df.loc[:, cols] = df.loc[:, cols].apply(pd.to_numeric)"
   ]
  },
  {
   "cell_type": "markdown",
   "id": "830b5727",
   "metadata": {},
   "source": [
    "Ось так виглядає оброблена таблиця"
   ]
  },
  {
   "cell_type": "code",
   "execution_count": 8,
   "id": "079ce022",
   "metadata": {},
   "outputs": [
    {
     "name": "stdout",
     "output_type": "stream",
     "text": [
      "<class 'pandas.core.frame.DataFrame'>\n",
      "RangeIndex: 304 entries, 0 to 303\n",
      "Data columns (total 8 columns):\n",
      " #   Column    Non-Null Count  Dtype  \n",
      "---  ------    --------------  -----  \n",
      " 0   City      304 non-null    object \n",
      " 1   Country   304 non-null    object \n",
      " 2   SIC Code  304 non-null    object \n",
      " 3   Industry  304 non-null    object \n",
      " 4   Jobs2011  304 non-null    int64  \n",
      " 5   Jobs2014  304 non-null    int64  \n",
      " 6   Change    304 non-null    int64  \n",
      " 7   % Change  304 non-null    float64\n",
      "dtypes: float64(1), int64(3), object(4)\n",
      "memory usage: 19.1+ KB\n"
     ]
    }
   ],
   "source": [
    "df.info()"
   ]
  },
  {
   "cell_type": "code",
   "execution_count": 9,
   "id": "6fbeecb0",
   "metadata": {},
   "outputs": [
    {
     "data": {
      "text/html": [
       "<div>\n",
       "<style scoped>\n",
       "    .dataframe tbody tr th:only-of-type {\n",
       "        vertical-align: middle;\n",
       "    }\n",
       "\n",
       "    .dataframe tbody tr th {\n",
       "        vertical-align: top;\n",
       "    }\n",
       "\n",
       "    .dataframe thead th {\n",
       "        text-align: right;\n",
       "    }\n",
       "</style>\n",
       "<table border=\"1\" class=\"dataframe\">\n",
       "  <thead>\n",
       "    <tr style=\"text-align: right;\">\n",
       "      <th></th>\n",
       "      <th>City</th>\n",
       "      <th>Country</th>\n",
       "      <th>SIC Code</th>\n",
       "      <th>Industry</th>\n",
       "      <th>Jobs2011</th>\n",
       "      <th>Jobs2014</th>\n",
       "      <th>Change</th>\n",
       "      <th>% Change</th>\n",
       "    </tr>\n",
       "  </thead>\n",
       "  <tbody>\n",
       "    <tr>\n",
       "      <th>0</th>\n",
       "      <td>Aberdeen</td>\n",
       "      <td>UK</td>\n",
       "      <td>M</td>\n",
       "      <td>PROFESSIONAL, SCIENTIFIC AND TECHNICAL ACTIVITIES</td>\n",
       "      <td>33510</td>\n",
       "      <td>34729</td>\n",
       "      <td>1219</td>\n",
       "      <td>3.6</td>\n",
       "    </tr>\n",
       "    <tr>\n",
       "      <th>1</th>\n",
       "      <td>Aberdeen</td>\n",
       "      <td>UK</td>\n",
       "      <td>Q</td>\n",
       "      <td>HUMAN HEALTH AND SOCIAL WORK ACTIVITIES</td>\n",
       "      <td>35520</td>\n",
       "      <td>34555</td>\n",
       "      <td>-965</td>\n",
       "      <td>-2.7</td>\n",
       "    </tr>\n",
       "    <tr>\n",
       "      <th>2</th>\n",
       "      <td>Aberdeen</td>\n",
       "      <td>UK</td>\n",
       "      <td>G</td>\n",
       "      <td>WHOLESALE AND RETAIL TRADE; REPAIR OF MOTOR VE...</td>\n",
       "      <td>34231</td>\n",
       "      <td>34065</td>\n",
       "      <td>-166</td>\n",
       "      <td>-0.4</td>\n",
       "    </tr>\n",
       "    <tr>\n",
       "      <th>3</th>\n",
       "      <td>Aberdeen</td>\n",
       "      <td>UK</td>\n",
       "      <td>N</td>\n",
       "      <td>ADMINISTRATIVE AND SUPPORT SERVICE ACTIVITIES</td>\n",
       "      <td>22344</td>\n",
       "      <td>29561</td>\n",
       "      <td>7217</td>\n",
       "      <td>32.2</td>\n",
       "    </tr>\n",
       "    <tr>\n",
       "      <th>4</th>\n",
       "      <td>Aberdeen</td>\n",
       "      <td>UK</td>\n",
       "      <td>B</td>\n",
       "      <td>MINING AND QUARRYING</td>\n",
       "      <td>26210</td>\n",
       "      <td>28120</td>\n",
       "      <td>1910</td>\n",
       "      <td>7.2</td>\n",
       "    </tr>\n",
       "  </tbody>\n",
       "</table>\n",
       "</div>"
      ],
      "text/plain": [
       "       City Country SIC Code  \\\n",
       "0  Aberdeen      UK        M   \n",
       "1  Aberdeen      UK        Q   \n",
       "2  Aberdeen      UK        G   \n",
       "3  Aberdeen      UK        N   \n",
       "4  Aberdeen      UK        B   \n",
       "\n",
       "                                            Industry  Jobs2011  Jobs2014  \\\n",
       "0  PROFESSIONAL, SCIENTIFIC AND TECHNICAL ACTIVITIES     33510     34729   \n",
       "1            HUMAN HEALTH AND SOCIAL WORK ACTIVITIES     35520     34555   \n",
       "2  WHOLESALE AND RETAIL TRADE; REPAIR OF MOTOR VE...     34231     34065   \n",
       "3      ADMINISTRATIVE AND SUPPORT SERVICE ACTIVITIES     22344     29561   \n",
       "4                               MINING AND QUARRYING     26210     28120   \n",
       "\n",
       "   Change  % Change  \n",
       "0    1219       3.6  \n",
       "1    -965      -2.7  \n",
       "2    -166      -0.4  \n",
       "3    7217      32.2  \n",
       "4    1910       7.2  "
      ]
     },
     "execution_count": 9,
     "metadata": {},
     "output_type": "execute_result"
    }
   ],
   "source": [
    "df.head()"
   ]
  },
  {
   "cell_type": "markdown",
   "id": "d8a75bc9",
   "metadata": {},
   "source": [
    "## 2. Зберегти у `.csv` файл найкращі міста за працевлаштуванням у 2011 році за галузями. В якому місті, яка галузь найкраща за працевлаштуванням."
   ]
  },
  {
   "cell_type": "markdown",
   "id": "70605ed5",
   "metadata": {},
   "source": [
    "Групуємо за містом, та в кожному місті визначаємо індекс галузі з найбільшою к-стю міст"
   ]
  },
  {
   "cell_type": "code",
   "execution_count": 10,
   "id": "b25a7f60",
   "metadata": {},
   "outputs": [],
   "source": [
    "idx = df.groupby('City')['Jobs2011'].idxmax()\n",
    "best_cities_2011 = df.loc[idx, ['City', 'Industry', 'Jobs2011']].reset_index(drop=True)"
   ]
  },
  {
   "cell_type": "code",
   "execution_count": 11,
   "id": "22133e51",
   "metadata": {},
   "outputs": [
    {
     "data": {
      "text/html": [
       "<div>\n",
       "<style scoped>\n",
       "    .dataframe tbody tr th:only-of-type {\n",
       "        vertical-align: middle;\n",
       "    }\n",
       "\n",
       "    .dataframe tbody tr th {\n",
       "        vertical-align: top;\n",
       "    }\n",
       "\n",
       "    .dataframe thead th {\n",
       "        text-align: right;\n",
       "    }\n",
       "</style>\n",
       "<table border=\"1\" class=\"dataframe\">\n",
       "  <thead>\n",
       "    <tr style=\"text-align: right;\">\n",
       "      <th></th>\n",
       "      <th>City</th>\n",
       "      <th>Industry</th>\n",
       "      <th>Jobs2011</th>\n",
       "    </tr>\n",
       "  </thead>\n",
       "  <tbody>\n",
       "    <tr>\n",
       "      <th>0</th>\n",
       "      <td>Aberdeen</td>\n",
       "      <td>HUMAN HEALTH AND SOCIAL WORK ACTIVITIES</td>\n",
       "      <td>35520</td>\n",
       "    </tr>\n",
       "    <tr>\n",
       "      <th>1</th>\n",
       "      <td>Birmingham</td>\n",
       "      <td>WHOLESALE AND RETAIL TRADE; REPAIR OF MOTOR VE...</td>\n",
       "      <td>145911</td>\n",
       "    </tr>\n",
       "    <tr>\n",
       "      <th>2</th>\n",
       "      <td>Brighton</td>\n",
       "      <td>WHOLESALE AND RETAIL TRADE; REPAIR OF MOTOR VE...</td>\n",
       "      <td>53718</td>\n",
       "    </tr>\n",
       "    <tr>\n",
       "      <th>3</th>\n",
       "      <td>Bristol</td>\n",
       "      <td>WHOLESALE AND RETAIL TRADE; REPAIR OF MOTOR VE...</td>\n",
       "      <td>97499</td>\n",
       "    </tr>\n",
       "    <tr>\n",
       "      <th>4</th>\n",
       "      <td>Cardiff-Newport</td>\n",
       "      <td>HUMAN HEALTH AND SOCIAL WORK ACTIVITIES</td>\n",
       "      <td>89250</td>\n",
       "    </tr>\n",
       "  </tbody>\n",
       "</table>\n",
       "</div>"
      ],
      "text/plain": [
       "              City                                           Industry  \\\n",
       "0         Aberdeen            HUMAN HEALTH AND SOCIAL WORK ACTIVITIES   \n",
       "1       Birmingham  WHOLESALE AND RETAIL TRADE; REPAIR OF MOTOR VE...   \n",
       "2         Brighton  WHOLESALE AND RETAIL TRADE; REPAIR OF MOTOR VE...   \n",
       "3          Bristol  WHOLESALE AND RETAIL TRADE; REPAIR OF MOTOR VE...   \n",
       "4  Cardiff-Newport            HUMAN HEALTH AND SOCIAL WORK ACTIVITIES   \n",
       "\n",
       "   Jobs2011  \n",
       "0     35520  \n",
       "1    145911  \n",
       "2     53718  \n",
       "3     97499  \n",
       "4     89250  "
      ]
     },
     "execution_count": 11,
     "metadata": {},
     "output_type": "execute_result"
    }
   ],
   "source": [
    "best_cities_2011.head()"
   ]
  },
  {
   "cell_type": "markdown",
   "id": "3790f239",
   "metadata": {},
   "source": [
    "Зберігаємо у `.csv` файл"
   ]
  },
  {
   "cell_type": "code",
   "execution_count": 12,
   "id": "48e7abd0",
   "metadata": {},
   "outputs": [],
   "source": [
    "best_cities_2011.to_csv('best_cities_2011.csv', index=False)"
   ]
  },
  {
   "cell_type": "markdown",
   "id": "3f17c21f",
   "metadata": {},
   "source": [
    "## 3. Зберегти у `.csv` файл галузі з найгіршим приростом по містах. Яка галузь має найгірший приріст у якому місті."
   ]
  },
  {
   "cell_type": "markdown",
   "id": "55ce6a78",
   "metadata": {},
   "source": [
    "Групуємо по галузі, і для кожної галузі беремо індекс з найгіршою зміною."
   ]
  },
  {
   "cell_type": "code",
   "execution_count": 13,
   "id": "d7e0fc29",
   "metadata": {},
   "outputs": [],
   "source": [
    "idx = df.groupby('Industry')['Change'].idxmin()\n",
    "worst_industries = df.loc[idx, ['Industry', 'City', 'Change']].reset_index(drop=True)"
   ]
  },
  {
   "cell_type": "code",
   "execution_count": 14,
   "id": "3dd84667",
   "metadata": {},
   "outputs": [
    {
     "data": {
      "text/html": [
       "<div>\n",
       "<style scoped>\n",
       "    .dataframe tbody tr th:only-of-type {\n",
       "        vertical-align: middle;\n",
       "    }\n",
       "\n",
       "    .dataframe tbody tr th {\n",
       "        vertical-align: top;\n",
       "    }\n",
       "\n",
       "    .dataframe thead th {\n",
       "        text-align: right;\n",
       "    }\n",
       "</style>\n",
       "<table border=\"1\" class=\"dataframe\">\n",
       "  <thead>\n",
       "    <tr style=\"text-align: right;\">\n",
       "      <th></th>\n",
       "      <th>Industry</th>\n",
       "      <th>City</th>\n",
       "      <th>Change</th>\n",
       "    </tr>\n",
       "  </thead>\n",
       "  <tbody>\n",
       "    <tr>\n",
       "      <th>0</th>\n",
       "      <td>ACCOMMODATION AND FOOD SERVICE ACTIVITIES</td>\n",
       "      <td>Newcastle-Sunderland</td>\n",
       "      <td>-6739</td>\n",
       "    </tr>\n",
       "    <tr>\n",
       "      <th>1</th>\n",
       "      <td>ADMINISTRATIVE AND SUPPORT SERVICE ACTIVITIES</td>\n",
       "      <td>Bristol</td>\n",
       "      <td>-6447</td>\n",
       "    </tr>\n",
       "    <tr>\n",
       "      <th>2</th>\n",
       "      <td>AGRICULTURE, FORESTRY AND FISHING</td>\n",
       "      <td>Edinburgh</td>\n",
       "      <td>-1353</td>\n",
       "    </tr>\n",
       "    <tr>\n",
       "      <th>3</th>\n",
       "      <td>ARTS, ENTERTAINMENT AND RECREATION</td>\n",
       "      <td>Glasgow</td>\n",
       "      <td>-2682</td>\n",
       "    </tr>\n",
       "    <tr>\n",
       "      <th>4</th>\n",
       "      <td>CONSTRUCTION</td>\n",
       "      <td>Glasgow</td>\n",
       "      <td>-3887</td>\n",
       "    </tr>\n",
       "  </tbody>\n",
       "</table>\n",
       "</div>"
      ],
      "text/plain": [
       "                                        Industry                  City  Change\n",
       "0      ACCOMMODATION AND FOOD SERVICE ACTIVITIES  Newcastle-Sunderland   -6739\n",
       "1  ADMINISTRATIVE AND SUPPORT SERVICE ACTIVITIES               Bristol   -6447\n",
       "2              AGRICULTURE, FORESTRY AND FISHING             Edinburgh   -1353\n",
       "3             ARTS, ENTERTAINMENT AND RECREATION               Glasgow   -2682\n",
       "4                                   CONSTRUCTION               Glasgow   -3887"
      ]
     },
     "execution_count": 14,
     "metadata": {},
     "output_type": "execute_result"
    }
   ],
   "source": [
    "worst_industries.head()"
   ]
  },
  {
   "cell_type": "markdown",
   "id": "a36a8413",
   "metadata": {},
   "source": [
    "Зберігаємо у `.csv` файл"
   ]
  },
  {
   "cell_type": "code",
   "execution_count": 15,
   "id": "acb206b1",
   "metadata": {},
   "outputs": [],
   "source": [
    "worst_industries.to_csv('worst_industries.csv', index=False)"
   ]
  }
 ],
 "metadata": {
  "kernelspec": {
   "display_name": "Python 3 (ipykernel)",
   "language": "python",
   "name": "python3"
  },
  "language_info": {
   "codemirror_mode": {
    "name": "ipython",
    "version": 3
   },
   "file_extension": ".py",
   "mimetype": "text/x-python",
   "name": "python",
   "nbconvert_exporter": "python",
   "pygments_lexer": "ipython3",
   "version": "3.10.6"
  }
 },
 "nbformat": 4,
 "nbformat_minor": 5
}
